{
 "cells": [
  {
   "cell_type": "code",
   "execution_count": 1,
   "metadata": {},
   "outputs": [
    {
     "name": "stdout",
     "output_type": "stream",
     "text": [
      "I am inside the statement\n"
     ]
    }
   ],
   "source": [
    "if True:\n",
    "    print(\"I am inside the statement\")"
   ]
  },
  {
   "cell_type": "code",
   "execution_count": 2,
   "metadata": {},
   "outputs": [
    {
     "name": "stdout",
     "output_type": "stream",
     "text": [
      "Inside else block\n"
     ]
    }
   ],
   "source": [
    "status=False\n",
    "if status:\n",
    "    print(\"Inside conditional statemnt\")\n",
    "else:\n",
    "    print(\"Inside else block\")"
   ]
  },
  {
   "cell_type": "code",
   "execution_count": 5,
   "metadata": {},
   "outputs": [
    {
     "name": "stdout",
     "output_type": "stream",
     "text": [
      "Enter the number 0\n",
      "Number is less than 10\n"
     ]
    }
   ],
   "source": [
    "num=input(\"Enter the number \")\n",
    "num=int(num)\n",
    "if num>10:\n",
    "    print(\"Number is greater than 10\")\n",
    "elif num==10:\n",
    "    print(\"Number is 10\")\n",
    "else:\n",
    "    print(\"Number is less than 10\")"
   ]
  },
  {
   "cell_type": "code",
   "execution_count": 6,
   "metadata": {},
   "outputs": [
    {
     "name": "stdout",
     "output_type": "stream",
     "text": [
      "Enter the number 12\n",
      "Number is between 10 and 20\n"
     ]
    }
   ],
   "source": [
    "num=input(\"Enter the number \")\n",
    "num=int(num)\n",
    "if (num>10)&(num<20):\n",
    "    print(\"Number is between 10 and 20\")\n",
    "elif num==10:\n",
    "    print(\"Number is 10\")\n",
    "else:\n",
    "    print(\"Number is less than 10\")"
   ]
  },
  {
   "cell_type": "markdown",
   "metadata": {},
   "source": [
    "## Simple game"
   ]
  },
  {
   "cell_type": "code",
   "execution_count": 7,
   "metadata": {},
   "outputs": [],
   "source": [
    "import random"
   ]
  },
  {
   "cell_type": "code",
   "execution_count": 14,
   "metadata": {},
   "outputs": [
    {
     "data": {
      "text/plain": [
       "16"
      ]
     },
     "execution_count": 14,
     "metadata": {},
     "output_type": "execute_result"
    }
   ],
   "source": [
    "random.randint(0,100)"
   ]
  },
  {
   "cell_type": "code",
   "execution_count": null,
   "metadata": {},
   "outputs": [],
   "source": []
  },
  {
   "cell_type": "code",
   "execution_count": 17,
   "metadata": {},
   "outputs": [
    {
     "name": "stdout",
     "output_type": "stream",
     "text": [
      "Enter the number 8\n",
      "You loss the game!!!!! Try Again, number is 4\n"
     ]
    }
   ],
   "source": [
    "number=int(input(\"Enter the number \"))\n",
    "random_number=random.randint(0,9)\n",
    "if number==random_number:\n",
    "    print(\"Congratulations you won!!!!!!!!!!!!\")\n",
    "else:\n",
    "    print(f\"You loss the game!!!!! Try Again, number is {random_number}\")"
   ]
  },
  {
   "cell_type": "code",
   "execution_count": null,
   "metadata": {},
   "outputs": [],
   "source": []
  },
  {
   "cell_type": "code",
   "execution_count": 20,
   "metadata": {},
   "outputs": [
    {
     "name": "stdout",
     "output_type": "stream",
     "text": [
      "Enter the number 7\n",
      "********************\n",
      "odd\n"
     ]
    }
   ],
   "source": [
    "status=\"even\" if int(input(\"Enter the number \"))%2==0 else \"odd\"\n",
    "print(\"*\"*20)\n",
    "print(status)"
   ]
  },
  {
   "cell_type": "code",
   "execution_count": null,
   "metadata": {},
   "outputs": [],
   "source": []
  },
  {
   "cell_type": "code",
   "execution_count": 23,
   "metadata": {},
   "outputs": [],
   "source": [
    "lst1=[]\n",
    "for i in \"banana\":\n",
    "    lst1.append(i)"
   ]
  },
  {
   "cell_type": "code",
   "execution_count": 24,
   "metadata": {},
   "outputs": [
    {
     "data": {
      "text/plain": [
       "['b', 'a', 'n', 'a', 'n', 'a']"
      ]
     },
     "execution_count": 24,
     "metadata": {},
     "output_type": "execute_result"
    }
   ],
   "source": [
    "lst1"
   ]
  },
  {
   "cell_type": "code",
   "execution_count": 27,
   "metadata": {},
   "outputs": [
    {
     "data": {
      "text/plain": [
       "'b@a@n@a@n@a'"
      ]
     },
     "execution_count": 27,
     "metadata": {},
     "output_type": "execute_result"
    }
   ],
   "source": [
    "'@'.join(lst1)"
   ]
  },
  {
   "cell_type": "code",
   "execution_count": null,
   "metadata": {},
   "outputs": [],
   "source": []
  }
 ],
 "metadata": {
  "kernelspec": {
   "display_name": "Python 3",
   "language": "python",
   "name": "python3"
  },
  "language_info": {
   "codemirror_mode": {
    "name": "ipython",
    "version": 3
   },
   "file_extension": ".py",
   "mimetype": "text/x-python",
   "name": "python",
   "nbconvert_exporter": "python",
   "pygments_lexer": "ipython3",
   "version": "3.8.5"
  }
 },
 "nbformat": 4,
 "nbformat_minor": 4
}
