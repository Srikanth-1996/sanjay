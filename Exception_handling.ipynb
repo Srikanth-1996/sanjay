{
 "cells": [
  {
   "cell_type": "code",
   "execution_count": 1,
   "metadata": {},
   "outputs": [],
   "source": [
    "try:\n",
    "    pass\n",
    "except:\n",
    "    pass\n",
    "finally:    #### Optional\n",
    "    pass"
   ]
  },
  {
   "cell_type": "code",
   "execution_count": 5,
   "metadata": {},
   "outputs": [
    {
     "name": "stdout",
     "output_type": "stream",
     "text": [
      "Enter the number y\n",
      "Iam in except block invalid literal for int() with base 10: 'y'\n",
      "Finally i am here\n"
     ]
    }
   ],
   "source": [
    "num=input(\"Enter the number \")\n",
    "try:\n",
    "    int(num)\n",
    "    print(\"I am in try block\")\n",
    "except Exception as error:\n",
    "    print(\"Iam in except block\",error)\n",
    "finally:\n",
    "    print(\"Finally i am here\")"
   ]
  },
  {
   "cell_type": "code",
   "execution_count": 6,
   "metadata": {},
   "outputs": [
    {
     "name": "stdout",
     "output_type": "stream",
     "text": [
      "Enter the number i\n",
      "Iam in except block invalid literal for int() with base 10: 'i'\n"
     ]
    }
   ],
   "source": [
    "num=input(\"Enter the number \")\n",
    "try:\n",
    "    int(num)\n",
    "    print(\"I am in try block\")\n",
    "except Exception as error:\n",
    "    print(\"Iam in except block\",error)"
   ]
  },
  {
   "cell_type": "code",
   "execution_count": null,
   "metadata": {},
   "outputs": [],
   "source": []
  },
  {
   "cell_type": "code",
   "execution_count": null,
   "metadata": {},
   "outputs": [],
   "source": []
  },
  {
   "cell_type": "code",
   "execution_count": null,
   "metadata": {},
   "outputs": [],
   "source": []
  },
  {
   "cell_type": "markdown",
   "metadata": {},
   "source": [
    "### File Handling"
   ]
  },
  {
   "cell_type": "code",
   "execution_count": 31,
   "metadata": {},
   "outputs": [],
   "source": [
    "with open(\"test.txt\",'w') as f:\n",
    "    f.write(\"\")"
   ]
  },
  {
   "cell_type": "code",
   "execution_count": 17,
   "metadata": {},
   "outputs": [
    {
     "name": "stdout",
     "output_type": "stream",
     "text": [
      "here ia m creating a new filehere ia m creating a new file\n"
     ]
    }
   ],
   "source": [
    "with open(\"test.txt\",'r') as f:\n",
    "    print(f.read())"
   ]
  },
  {
   "cell_type": "code",
   "execution_count": 19,
   "metadata": {},
   "outputs": [],
   "source": [
    "data=open('test.txt','r')"
   ]
  },
  {
   "cell_type": "code",
   "execution_count": 20,
   "metadata": {},
   "outputs": [
    {
     "data": {
      "text/plain": [
       "'here ia m creating a new filehere ia m creating a new file'"
      ]
     },
     "execution_count": 20,
     "metadata": {},
     "output_type": "execute_result"
    }
   ],
   "source": [
    "data.read()"
   ]
  },
  {
   "cell_type": "code",
   "execution_count": 21,
   "metadata": {},
   "outputs": [],
   "source": [
    "data.close()"
   ]
  },
  {
   "cell_type": "code",
   "execution_count": 23,
   "metadata": {},
   "outputs": [
    {
     "data": {
      "text/plain": [
       "True"
      ]
     },
     "execution_count": 23,
     "metadata": {},
     "output_type": "execute_result"
    }
   ],
   "source": [
    "data.closed"
   ]
  },
  {
   "cell_type": "code",
   "execution_count": 32,
   "metadata": {},
   "outputs": [],
   "source": [
    "with open(\"test.txt\",'w') as f:\n",
    "    for i in range(10):\n",
    "        f.write(str(i))"
   ]
  },
  {
   "cell_type": "code",
   "execution_count": null,
   "metadata": {},
   "outputs": [],
   "source": []
  },
  {
   "cell_type": "code",
   "execution_count": 33,
   "metadata": {},
   "outputs": [],
   "source": [
    "import requests"
   ]
  },
  {
   "cell_type": "code",
   "execution_count": 38,
   "metadata": {},
   "outputs": [],
   "source": [
    "from bs4 import BeautifulSoup"
   ]
  },
  {
   "cell_type": "code",
   "execution_count": 34,
   "metadata": {},
   "outputs": [],
   "source": [
    "res=requests.get('https://www.w3schools.com/python/python_file_handling.asp')"
   ]
  },
  {
   "cell_type": "code",
   "execution_count": 35,
   "metadata": {},
   "outputs": [
    {
     "data": {
      "text/plain": [
       "200"
      ]
     },
     "execution_count": 35,
     "metadata": {},
     "output_type": "execute_result"
    }
   ],
   "source": [
    "res.status_code"
   ]
  },
  {
   "cell_type": "code",
   "execution_count": 49,
   "metadata": {},
   "outputs": [],
   "source": [
    "soup=BeautifulSoup(res.text)"
   ]
  },
  {
   "cell_type": "code",
   "execution_count": 59,
   "metadata": {
    "scrolled": true
   },
   "outputs": [
    {
     "data": {
      "text/plain": [
       "'\\n\\nPython File Open\\n\\n\\n\\n\\n\\n\\n\\n\\n\\n\\n\\n\\n\\n\\n\\n\\n\\n\\n\\n\\n\\n\\n\\n\\n\\n\\n\\n\\n\\n\\nTutorials \\nReferences \\nExercises \\nVideos NEW\\nMenu \\n\\n\\n\\nLog in\\n\\n\\n\\nPaid Courses\\nWebsite NEW\\n\\n\\n\\n\\n\\n\\n\\n\\n\\n\\n\\nHTML\\nCSS\\nJAVASCRIPT\\nSQL\\nPYTHON\\nPHP\\nBOOTSTRAP\\nHOW TO\\nW3.CSS\\nJAVA\\nJQUERY\\nC++\\nC#\\nR\\nReact\\nKotlin\\n\\ue802\\n\\ue801\\n\\ue80b\\n\\n\\n\\n\\n×\\n\\n\\nTutorials\\n\\n\\nHTML and CSS\\nLearn HTML\\nLearn CSS\\nLearn RWD\\nLearn Bootstrap\\nLearn W3.CSS\\nLearn Colors\\nLearn Icons\\nLearn Graphics\\nLearn SVG\\nLearn Canvas\\nLearn How To\\nLearn Sass\\n\\nData Analytics\\nLearn AI\\nLearn Machine Learning\\nLearn Data Science\\nLearn NumPy\\nLearn Pandas\\nLearn SciPy\\nLearn Matplotlib\\nLearn Statistics\\nLearn Excel\\nXML Tutorials\\nLearn XML\\nLearn XML AJAX\\nLearn XML DOM\\nLearn XML DTD\\nLearn XML Schema\\nLearn XSLT\\nLearn XPath\\nLearn XQuery\\n\\n\\n\\nJavaScript\\nLearn JavaScript\\nLearn jQuery\\nLearn React\\nLearn AngularJS\\nLearn JSON\\nLearn AJAX\\nLearn AppML\\nLearn W3.JS\\nProgramming\\nLearn Python\\nLearn Java\\nLearn C++\\nLearn C#\\nLearn R\\nLearn Kotlin\\nLearn Go\\n\\n\\nServer Side\\nLearn SQL\\nLearn MySQL\\nLearn PHP\\nLearn ASP\\nLearn Node.js\\nLearn Raspberry Pi\\nLearn Git\\nWeb Building\\nCreate a Website NEW\\nWeb Templates\\nWeb Statistics\\nWeb Certificates\\nWeb Development\\nCode Editor\\nTest Your Typing Speed\\nPlay a Code Game\\nCyber Security\\nAccessibility\\n\\n\\nData Analytics\\nLearn AI\\nLearn Machine Learning\\nLearn Data Science\\nLearn NumPy\\nLearn Pandas\\nLearn SciPy\\nLearn Matplotlib\\nLearn Statistics\\nLearn Excel\\nLearn Google Sheets\\nXML Tutorials\\nLearn XML\\nLearn XML AJAX\\nLearn XML DOM\\nLearn XML DTD\\nLearn XML Schema\\nLearn XSLT\\nLearn XPath\\nLearn XQuery\\n\\n\\n\\n\\n\\n\\n\\n×\\n\\n\\nReferences\\n\\n\\nHTML\\nHTML Tag Reference\\nHTML Browser Support\\nHTML Event Reference\\nHTML Color Reference\\nHTML Attribute Reference\\nHTML Canvas Reference\\nHTML SVG Reference\\nGoogle Maps Reference\\nCSS\\nCSS Reference\\nCSS Browser Support\\nCSS Selector Reference\\nBootstrap 3 Reference\\nBootstrap 4 Reference\\nW3.CSS Reference\\nIcon Reference\\nSass Reference\\n\\n\\nJavaScript\\nJavaScript Reference\\nHTML DOM Reference\\njQuery Reference\\nAngularJS Reference\\nAppML Reference\\nW3.JS Reference\\nProgramming\\nPython Reference\\nJava Reference\\n\\n\\nServer Side\\nSQL Reference\\nMySQL Reference\\nPHP Reference\\nASP Reference\\nXML\\nXML DOM Reference\\nXML Http Reference\\nXSLT Reference\\nXML Schema Reference\\n\\n\\nCharacter Sets\\nHTML Character Sets\\nHTML ASCII\\nHTML ANSI\\nHTML Windows-1252\\nHTML ISO-8859-1\\nHTML Symbols\\nHTML UTF-8\\n\\n\\n\\n\\n\\n\\n\\n×\\n\\n\\nExercises and Quizzes\\n\\n\\nExercises\\nHTML Exercises\\nCSS Exercises\\nJavaScript Exercises\\nSQL Exercises\\nMySQL Exercises\\nPHP Exercises\\nPython Exercises\\nNumPy Exercises\\nPandas Exercises\\nSciPy Exercises\\njQuery Exercises\\nJava Exercises\\nC++ Exercises\\nC# Exercises\\nR Exercises\\nKotlin Exercises\\nGo Exercises\\nBootstrap Exercises\\nBootstrap 4 Exercises\\nBootstrap 5 Exercises\\nGit Exercises\\n\\n\\nQuizzes\\nHTML Quiz\\nCSS Quiz\\nJavaScript Quiz\\nSQL Quiz\\nMySQL Quiz\\nPHP Quiz\\nPython Quiz\\nNumPy Quiz\\nPandas Quiz\\nSciPy Quiz\\njQuery Quiz\\nJava Quiz\\nC++ Quiz\\nC# Quiz\\nR Quiz\\nXML Quiz\\nCyber Security Quiz\\nBootstrap Quiz\\nBootstrap 4 Quiz\\nBootstrap 5 Quiz\\nAccessibility Quiz\\n\\n\\nCourses\\n\\nHTML Course\\nCSS Course\\nJavaScript Course\\nFront End Course\\nSQL Course\\nPHP Course\\nPython Course\\nNumPy Course\\nPandas Course\\nData Analytics Course\\njQuery Course\\nJava Course\\nC++ Course\\nC# Course\\nR Course\\nXML Course\\nCyber Security Course\\nAccessibility Course\\n\\n\\nCertificates\\n\\nHTML Certificate\\nCSS Certificate\\nJavaScript Certificate\\nFront End Certificate\\nSQL Certificate\\nPHP Certificate\\nPython Certificate\\nData Science Certificate\\nBootstrap 3 Certificate\\nBootstrap 4 Certificate\\njQuery Certificate\\nJava Certificate\\nC++ Certificate\\nReact Certificate\\nXML Certificate\\n\\n\\n\\n\\n\\n\\n\\n\\n×\\n\\nTutorials \\n\\nReferences \\n\\nExercises \\n\\nPaid Courses\\nSpaces\\nVideos\\nShop\\n\\n\\n\\n\\n\\n\\n\\nPython Tutorial\\nPython HOME\\nPython Intro\\nPython Get Started\\nPython Syntax\\nPython Comments\\nPython Variables\\n\\nPython Variables\\nVariable Names\\nAssign Multiple Values\\nOutput Variables\\nGlobal Variables\\nVariable Exercises\\n\\nPython Data Types\\nPython Numbers\\n\\nPython Casting\\nPython Strings\\n\\nPython Strings\\nSlicing Strings\\nModify Strings\\nConcatenate Strings\\nFormat Strings\\nEscape Characters\\nString Methods\\nString Exercises\\n\\nPython Booleans\\nPython Operators\\nPython Lists\\n\\nPython Lists\\nAccess List Items\\nChange List Items\\nAdd List Items\\nRemove List Items\\nLoop Lists\\nList Comprehension\\nSort Lists\\nCopy Lists\\nJoin Lists\\nList Methods\\nList Exercises\\n\\nPython Tuples\\n\\nPython Tuples\\nAccess Tuples\\nUpdate Tuples\\nUnpack Tuples\\nLoop Tuples\\nJoin Tuples\\nTuple Methods\\nTuple Exercises\\n\\nPython Sets\\n\\nPython Sets\\nAccess Set Items\\nAdd Set Items\\nRemove Set Items\\nLoop Sets\\nJoin Sets\\nSet Methods\\nSet Exercises\\n\\nPython Dictionaries\\n\\nPython Dictionaries\\nAccess Items\\nChange Items\\nAdd Items\\nRemove Items\\nLoop Dictionaries\\nCopy Dictionaries\\nNested Dictionaries\\nDictionary Methods\\nDictionary Exercise\\n\\nPython If...Else\\nPython While Loops\\nPython For Loops\\n\\nPython Functions\\nPython Lambda\\nPython Arrays\\nPython Classes/Objects\\nPython Inheritance\\nPython Iterators\\nPython Scope\\nPython Modules\\nPython Dates\\nPython Math\\nPython JSON\\nPython RegEx\\nPython PIP\\nPython Try...Except\\nPython User Input\\nPython String Formatting\\n\\nFile Handling\\nPython File Handling\\nPython Read Files\\nPython Write/Create Files\\nPython Delete Files\\n\\nPython Modules\\nNumPy Tutorial\\nPandas Tutorial\\nSciPy Tutorial\\n\\n\\n\\nPython Matplotlib\\nMatplotlib Intro\\nMatplotlib Get Started\\nMatplotlib Pyplot\\nMatplotlib Plotting\\nMatplotlib Markers\\nMatplotlib Line\\nMatplotlib Labels\\nMatplotlib Grid\\nMatplotlib Subplots\\nMatplotlib Scatter\\nMatplotlib Bars\\nMatplotlib Histograms\\nMatplotlib Pie Charts\\n\\n\\nMachine Learning\\nGetting Started\\nMean Median Mode\\nStandard Deviation\\nPercentile\\nData Distribution\\nNormal Data Distribution\\nScatter Plot\\nLinear Regression\\nPolynomial Regression\\nMultiple Regression\\nScale\\nTrain/Test\\nDecision Tree\\n\\nPython MySQL\\nMySQL Get Started\\nMySQL Create Database\\nMySQL Create Table\\nMySQL Insert\\nMySQL Select\\nMySQL Where\\nMySQL Order By\\nMySQL Delete\\nMySQL Drop Table\\nMySQL Update\\nMySQL Limit\\nMySQL Join\\n\\nPython MongoDB\\nMongoDB Get Started\\nMongoDB Create Database\\nMongoDB Create Collection\\nMongoDB Insert\\nMongoDB Find\\nMongoDB Query\\nMongoDB Sort\\nMongoDB Delete\\nMongoDB Drop Collection\\nMongoDB Update\\nMongoDB Limit\\n\\n\\nPython Reference\\nPython Overview\\nPython Built-in Functions\\nPython String Methods\\nPython List Methods\\nPython Dictionary Methods\\nPython Tuple Methods\\nPython Set Methods\\nPython File Methods\\nPython Keywords\\nPython Exceptions\\nPython Glossary\\n\\nModule Reference\\nRandom Module\\nRequests Module\\nStatistics Module\\nMath Module\\ncMath Module\\n\\nPython How To\\nRemove List Duplicates\\nReverse a String\\nAdd Two Numbers\\n\\nPython Examples\\nPython Examples\\nPython Compiler\\nPython Exercises\\nPython Quiz\\nPython Certificate\\n\\n\\n\\n\\n\\n\\n\\n\\n\\n\\n\\n\\n\\nPython File Open\\n\\n❮ Previous\\nNext ❯\\n\\n\\nFile handling is an important part of any web application.\\nPython has several functions for creating, reading, updating, and \\ndeleting files.\\n\\nFile Handling\\nThe key function for working with files in Python is the\\nopen() function.\\nThe open() function takes two parameters;\\nfilename, and mode.\\nThere are four different methods (modes) for opening a file:\\n\\n\"r\" - Read - Default value. Opens a \\nfile for reading, error if the file does not exist\\n\"a\" - Append - Opens a file for \\nappending, creates the file if it does not exist\\n\"w\" - Write - Opens a file for writing, \\ncreates the file if it does not exist\\n\"x\" - Create - Creates the specified file, returns \\nan error if the file exists\\n\\nIn addition you can specify if the file should be handled as binary or text mode\\n\\n\"t\" - Text - Default value. Text mode\\n\"b\" - Binary - Binary mode (e.g. \\n  images)\\n\\n\\nSyntax\\nTo open a file for reading it is enough to specify the name of the file:\\n\\n\\nf = open(\"demofile.txt\")\\n\\n\\nThe code above is the same as:\\n\\n\\nf = open(\"demofile.txt\", \"rt\")\\n\\n\\nBecause \"r\" for read, and \\n\"t\" for text are the default values, you do not need to specify them.\\n\\nNote: Make sure the file exists, or else you will get an error.\\n\\n\\n\\n❮ Previous\\nNext ❯\\n\\n\\n\\n\\n\\n\\n\\n\\n\\n\\n\\n\\n\\nNEW\\n\\nWe just launchedW3Schools videos\\n\\nExplore now\\n\\n\\nCOLOR PICKER\\n\\n\\n\\n\\nLIKE US\\n\\n\\n\\n\\n\\n\\n\\n\\n\\nGet certifiedby completinga course today!\\n\\n\\nw3schools CERTIFIED  .  2021\\n\\n\\nGet started\\n\\n\\n\\n\\n\\n\\n\\nCODE GAME\\n\\nPlay Game\\n\\n\\n\\n\\n\\n\\n\\n\\n\\n\\n\\n\\n\\n\\n\\n\\n\\n\\n\\n\\n\\n\\n\\n\\n\\n\\n\\n\\n\\n\\nReport Error\\n\\n\\n\\nForum\\n\\n\\nAbout\\n\\n\\nShop\\n\\n\\n\\n\\n×\\nReport Error\\nIf you want to report an error, or if you want to make a suggestion, do not hesitate to send us an e-mail:\\nhelp@w3schools.com\\n\\n\\n\\n\\n×\\nThank You For Helping Us!\\nYour message has been sent to W3Schools.\\n\\n\\n\\n\\nTop Tutorials\\nHTML Tutorial\\nCSS Tutorial\\nJavaScript Tutorial\\nHow To Tutorial\\nSQL Tutorial\\nPython Tutorial\\nW3.CSS Tutorial\\nBootstrap Tutorial\\nPHP Tutorial\\nJava Tutorial\\nC++ Tutorial\\njQuery Tutorial\\n\\n\\n\\n\\nTop References\\nHTML Reference\\nCSS Reference\\nJavaScript Reference\\nSQL Reference\\nPython Reference\\nW3.CSS Reference\\nBootstrap Reference\\nPHP Reference\\nHTML Colors\\nJava Reference\\nAngular Reference\\njQuery Reference\\n\\n\\n\\n\\nTop Examples\\nHTML Examples\\nCSS Examples\\nJavaScript Examples\\nHow To Examples\\nSQL Examples\\nPython Examples\\nW3.CSS Examples\\nBootstrap Examples\\nPHP Examples\\nJava Examples\\nXML Examples\\njQuery Examples\\n\\n\\n\\n\\n\\nWeb Courses\\nHTML Course\\nCSS Course\\nJavaScript Course\\nFront End Course\\nSQL Course\\nPython Course\\nPHP Course\\njQuery Course\\nJava Course\\nC++ Course\\nC# Course\\nXML Course\\n\\nGet Certified »\\n\\n\\n\\n\\n\\nW3Schools is optimized for learning and training. Examples might be simplified to improve reading and learning.\\nTutorials, references, and examples are constantly reviewed to avoid errors, but we cannot warrant full correctness of all content.\\nWhile using W3Schools, you agree to have read and accepted our terms of use, \\ncookie and privacy policy.\\nCopyright 1999-2021 by Refsnes Data. All Rights Reserved.\\nW3Schools is Powered by W3.CSS.\\n\\n\\n\\n\\n\\n\\n\\n\\n\\n\\n\\n\\n'"
      ]
     },
     "execution_count": 59,
     "metadata": {},
     "output_type": "execute_result"
    }
   ],
   "source": [
    "BeautifulSoup(res.text).text"
   ]
  },
  {
   "cell_type": "code",
   "execution_count": 50,
   "metadata": {},
   "outputs": [],
   "source": [
    "soup=soup.text.replace('\\n\\n','')"
   ]
  },
  {
   "cell_type": "code",
   "execution_count": 54,
   "metadata": {},
   "outputs": [],
   "source": [
    "soup=soup.replace('\\n',' ')"
   ]
  },
  {
   "cell_type": "code",
   "execution_count": 55,
   "metadata": {},
   "outputs": [],
   "source": [
    "soup=soup.lower()"
   ]
  },
  {
   "cell_type": "code",
   "execution_count": 61,
   "metadata": {},
   "outputs": [],
   "source": [
    "data={}\n",
    "for i in soup.split():\n",
    "    if i in data.keys():\n",
    "        data[i]+=1\n",
    "    else:\n",
    "        data[i]=1"
   ]
  },
  {
   "cell_type": "code",
   "execution_count": 65,
   "metadata": {},
   "outputs": [
    {
     "data": {
      "text/plain": [
       "[('learn', 69),\n",
       " ('python', 62),\n",
       " ('reference', 43),\n",
       " ('course', 30),\n",
       " ('exercises', 26),\n",
       " ('html', 25),\n",
       " ('quiz', 22),\n",
       " ('xml', 21),\n",
       " ('mysql', 17),\n",
       " ('matplotlib', 16),\n",
       " ('examples', 16),\n",
       " ('file', 15),\n",
       " ('css', 15),\n",
       " ('bootstrap', 15),\n",
       " ('to', 15),\n",
       " ('certificate', 15),\n",
       " ('tutorial', 15),\n",
       " ('the', 15),\n",
       " ('javascript', 12),\n",
       " ('methods', 12),\n",
       " ('for', 12),\n",
       " ('mongodb', 12),\n",
       " ('-', 12),\n",
       " ('sql', 11),\n",
       " ('php', 11),\n",
       " ('java', 11),\n",
       " ('jquery', 11),\n",
       " ('items', 11),\n",
       " ('and', 10),\n",
       " ('a', 9),\n",
       " ('list', 9),\n",
       " ('c++', 8),\n",
       " ('data', 8),\n",
       " ('if', 7),\n",
       " ('you', 7),\n",
       " ('w3.css', 6),\n",
       " ('c#', 6),\n",
       " ('numpy', 6),\n",
       " ('pandas', 6),\n",
       " ('web', 6),\n",
       " ('create', 6),\n",
       " ('get', 6),\n",
       " ('tuples', 6),\n",
       " ('set', 6),\n",
       " ('is', 6),\n",
       " ('tutorials', 5),\n",
       " ('how', 5),\n",
       " ('r', 5),\n",
       " ('scipy', 5),\n",
       " ('sets', 5),\n",
       " ('started', 5),\n",
       " ('exercisespython', 5),\n",
       " ('strings', 5),\n",
       " ('string', 5),\n",
       " ('lists', 5),\n",
       " ('an', 5),\n",
       " ('not', 5),\n",
       " ('references', 4),\n",
       " ('learning', 4),\n",
       " ('statistics', 4),\n",
       " ('dom', 4),\n",
       " ('4', 4),\n",
       " ('access', 4),\n",
       " ('add', 4),\n",
       " ('remove', 4),\n",
       " ('loop', 4),\n",
       " ('dictionaries', 4),\n",
       " ('handling', 4),\n",
       " ('module', 4),\n",
       " ('of', 4),\n",
       " ('text', 4),\n",
       " ('courses', 3),\n",
       " ('react', 3),\n",
       " ('kotlin', 3),\n",
       " ('×', 3),\n",
       " ('analytics', 3),\n",
       " ('machine', 3),\n",
       " ('science', 3),\n",
       " ('ajax', 3),\n",
       " ('schema', 3),\n",
       " ('xslt', 3),\n",
       " ('code', 3),\n",
       " ('cyber', 3),\n",
       " ('security', 3),\n",
       " ('accessibility', 3),\n",
       " ('front', 3),\n",
       " ('end', 3),\n",
       " ('variables', 3),\n",
       " ('join', 3),\n",
       " ('update', 3),\n",
       " ('tuple', 3),\n",
       " ('dictionary', 3),\n",
       " ('functions', 3),\n",
       " ('read', 3),\n",
       " ('files', 3),\n",
       " ('delete', 3),\n",
       " ('mode', 3),\n",
       " ('regression', 3),\n",
       " ('by', 3),\n",
       " ('are', 3),\n",
       " ('default', 3),\n",
       " ('opens', 3),\n",
       " ('error', 3),\n",
       " ('does', 3),\n",
       " ('exist', 3),\n",
       " ('creates', 3),\n",
       " ('it', 3),\n",
       " ('specify', 3),\n",
       " ('binary', 3),\n",
       " ('or', 3),\n",
       " ('report', 3),\n",
       " ('top', 3),\n",
       " ('open', 2),\n",
       " ('videos', 2),\n",
       " ('new', 2),\n",
       " ('website', 2),\n",
       " ('colors', 2),\n",
       " ('svg', 2),\n",
       " ('canvas', 2),\n",
       " ('ai', 2),\n",
       " ('excel', 2),\n",
       " ('dtd', 2),\n",
       " ('xpath', 2),\n",
       " ('angularjs', 2),\n",
       " ('json', 2),\n",
       " ('appml', 2),\n",
       " ('w3.js', 2),\n",
       " ('programming', 2),\n",
       " ('go', 2),\n",
       " ('server', 2),\n",
       " ('side', 2),\n",
       " ('asp', 2),\n",
       " ('git', 2),\n",
       " ('your', 2),\n",
       " ('game', 2),\n",
       " ('google', 2),\n",
       " ('browser', 2),\n",
       " ('support', 2),\n",
       " ('color', 2),\n",
       " ('3', 2),\n",
       " ('character', 2),\n",
       " ('quizzes', 2),\n",
       " ('5', 2),\n",
       " ('intro', 2),\n",
       " ('syntax', 2),\n",
       " ('variable', 2),\n",
       " ('multiple', 2),\n",
       " ('numberspython', 2),\n",
       " ('change', 2),\n",
       " ('sort', 2),\n",
       " ('copy', 2),\n",
       " ('while', 2),\n",
       " ('modules', 2),\n",
       " ('math', 2),\n",
       " ('scatter', 2),\n",
       " ('distribution', 2),\n",
       " ('database', 2),\n",
       " ('table', 2),\n",
       " ('insert', 2),\n",
       " ('drop', 2),\n",
       " ('limit', 2),\n",
       " ('collection', 2),\n",
       " ('two', 2),\n",
       " ('previous', 2),\n",
       " ('next', 2),\n",
       " ('has', 2),\n",
       " ('reading,', 2),\n",
       " ('function', 2),\n",
       " ('open()', 2),\n",
       " ('value.', 2),\n",
       " ('be', 2),\n",
       " ('reading', 2),\n",
       " ('f', 2),\n",
       " ('=', 2),\n",
       " ('do', 2),\n",
       " ('make', 2),\n",
       " ('w3schools', 2),\n",
       " ('certified', 2),\n",
       " ('want', 2),\n",
       " ('all', 2),\n",
       " ('menu', 1),\n",
       " ('log', 1),\n",
       " ('inpaid', 1),\n",
       " ('newhtml', 1),\n",
       " ('\\ue802', 1),\n",
       " ('\\ue801', 1),\n",
       " ('\\ue80b', 1),\n",
       " ('rwd', 1),\n",
       " ('icons', 1),\n",
       " ('graphics', 1),\n",
       " ('sassdata', 1),\n",
       " ('xqueryjavascript', 1),\n",
       " ('node.js', 1),\n",
       " ('raspberry', 1),\n",
       " ('pi', 1),\n",
       " ('building', 1),\n",
       " ('templates', 1),\n",
       " ('certificates', 1),\n",
       " ('development', 1),\n",
       " ('editor', 1),\n",
       " ('test', 1),\n",
       " ('typing', 1),\n",
       " ('speed', 1),\n",
       " ('play', 1),\n",
       " ('sheets', 1),\n",
       " ('xquery×', 1),\n",
       " ('tag', 1),\n",
       " ('event', 1),\n",
       " ('attribute', 1),\n",
       " ('maps', 1),\n",
       " ('selector', 1),\n",
       " ('icon', 1),\n",
       " ('sass', 1),\n",
       " ('http', 1),\n",
       " ('ascii', 1),\n",
       " ('ansi', 1),\n",
       " ('windows-1252', 1),\n",
       " ('iso-8859-1', 1),\n",
       " ('symbols', 1),\n",
       " ('utf-8×', 1),\n",
       " ('courseshtml', 1),\n",
       " ('certificateshtml', 1),\n",
       " ('×tutorials', 1),\n",
       " ('paid', 1),\n",
       " ('spaces', 1),\n",
       " ('shoppython', 1),\n",
       " ('home', 1),\n",
       " ('comments', 1),\n",
       " ('variablespython', 1),\n",
       " ('names', 1),\n",
       " ('assign', 1),\n",
       " ('values', 1),\n",
       " ('output', 1),\n",
       " ('global', 1),\n",
       " ('types', 1),\n",
       " ('casting', 1),\n",
       " ('stringspython', 1),\n",
       " ('slicing', 1),\n",
       " ('modify', 1),\n",
       " ('concatenate', 1),\n",
       " ('format', 1),\n",
       " ('escape', 1),\n",
       " ('characters', 1),\n",
       " ('booleans', 1),\n",
       " ('operators', 1),\n",
       " ('listspython', 1),\n",
       " ('comprehension', 1),\n",
       " ('tuplespython', 1),\n",
       " ('unpack', 1),\n",
       " ('setspython', 1),\n",
       " ('dictionariespython', 1),\n",
       " ('nested', 1),\n",
       " ('exercisepython', 1),\n",
       " ('if...else', 1),\n",
       " ('loops', 1),\n",
       " ('loopspython', 1),\n",
       " ('lambda', 1),\n",
       " ('arrays', 1),\n",
       " ('classes/objects', 1),\n",
       " ('inheritance', 1),\n",
       " ('iterators', 1),\n",
       " ('scope', 1),\n",
       " ('dates', 1),\n",
       " ('regex', 1),\n",
       " ('pip', 1),\n",
       " ('try...except', 1),\n",
       " ('user', 1),\n",
       " ('input', 1),\n",
       " ('formattingfile', 1),\n",
       " ('write/create', 1),\n",
       " ('filespython', 1),\n",
       " ('tutorialpython', 1),\n",
       " ('pyplot', 1),\n",
       " ('plotting', 1),\n",
       " ('markers', 1),\n",
       " ('line', 1),\n",
       " ('labels', 1),\n",
       " ('grid', 1),\n",
       " ('subplots', 1),\n",
       " ('bars', 1),\n",
       " ('histograms', 1),\n",
       " ('pie', 1),\n",
       " ('charts', 1),\n",
       " ('getting', 1),\n",
       " ('mean', 1),\n",
       " ('median', 1),\n",
       " ('standard', 1),\n",
       " ('deviation', 1),\n",
       " ('percentile', 1),\n",
       " ('normal', 1),\n",
       " ('plot', 1),\n",
       " ('linear', 1),\n",
       " ('polynomial', 1),\n",
       " ('scale', 1),\n",
       " ('train/test', 1),\n",
       " ('decision', 1),\n",
       " ('treepython', 1),\n",
       " ('select', 1),\n",
       " ('where', 1),\n",
       " ('order', 1),\n",
       " ('joinpython', 1),\n",
       " ('find', 1),\n",
       " ('query', 1),\n",
       " ('overview', 1),\n",
       " ('built-in', 1),\n",
       " ('keywords', 1),\n",
       " ('exceptions', 1),\n",
       " ('glossarymodule', 1),\n",
       " ('random', 1),\n",
       " ('requests', 1),\n",
       " ('cmath', 1),\n",
       " ('modulepython', 1),\n",
       " ('duplicates', 1),\n",
       " ('reverse', 1),\n",
       " ('compiler', 1),\n",
       " ('certificatepython', 1),\n",
       " ('open❮', 1),\n",
       " ('❯', 1),\n",
       " ('important', 1),\n",
       " ('part', 1),\n",
       " ('any', 1),\n",
       " ('application.', 1),\n",
       " ('several', 1),\n",
       " ('creating,', 1),\n",
       " ('updating,', 1),\n",
       " ('deleting', 1),\n",
       " ('files.file', 1),\n",
       " ('key', 1),\n",
       " ('working', 1),\n",
       " ('with', 1),\n",
       " ('in', 1),\n",
       " ('function.', 1),\n",
       " ('takes', 1),\n",
       " ('parameters;', 1),\n",
       " ('filename,', 1),\n",
       " ('mode.', 1),\n",
       " ('there', 1),\n",
       " ('four', 1),\n",
       " ('different', 1),\n",
       " ('(modes)', 1),\n",
       " ('opening', 1),\n",
       " ('file:\"r\"', 1),\n",
       " ('\"a\"', 1),\n",
       " ('append', 1),\n",
       " ('appending,', 1),\n",
       " ('\"w\"', 1),\n",
       " ('write', 1),\n",
       " ('writing,', 1),\n",
       " ('\"x\"', 1),\n",
       " ('specified', 1),\n",
       " ('file,', 1),\n",
       " ('returns', 1),\n",
       " ('existsin', 1),\n",
       " ('addition', 1),\n",
       " ('can', 1),\n",
       " ('should', 1),\n",
       " ('handled', 1),\n",
       " ('as', 1),\n",
       " ('mode\"t\"', 1),\n",
       " ('\"b\"', 1),\n",
       " ('(e.g.', 1),\n",
       " ('images)', 1),\n",
       " ('enough', 1),\n",
       " ('name', 1),\n",
       " ('file:', 1),\n",
       " ('open(\"demofile.txt\")', 1),\n",
       " ('above', 1),\n",
       " ('same', 1),\n",
       " ('as:', 1),\n",
       " ('open(\"demofile.txt\",', 1),\n",
       " ('\"rt\")', 1),\n",
       " ('because', 1),\n",
       " ('\"r\"', 1),\n",
       " ('read,', 1),\n",
       " ('\"t\"', 1),\n",
       " ('values,', 1),\n",
       " ('need', 1),\n",
       " ('them.note:', 1),\n",
       " ('sure', 1),\n",
       " ('exists,', 1),\n",
       " ('else', 1),\n",
       " ('will', 1),\n",
       " ('error.❮', 1),\n",
       " ('❯newwe', 1),\n",
       " ('just', 1),\n",
       " ('launchedw3schools', 1),\n",
       " ('videosexplore', 1),\n",
       " ('now', 1),\n",
       " ('picker', 1),\n",
       " ('like', 1),\n",
       " ('usget', 1),\n",
       " ('certifiedby', 1),\n",
       " ('completinga', 1),\n",
       " ('today!', 1),\n",
       " ('.', 1),\n",
       " ('2021', 1),\n",
       " ('startedcode', 1),\n",
       " ('gameplay', 1),\n",
       " ('errorforum', 1),\n",
       " ('about', 1),\n",
       " ('shop', 1),\n",
       " ('error,', 1),\n",
       " ('suggestion,', 1),\n",
       " ('hesitate', 1),\n",
       " ('send', 1),\n",
       " ('us', 1),\n",
       " ('e-mail:', 1),\n",
       " ('help@w3schools.com', 1),\n",
       " ('thank', 1),\n",
       " ('helping', 1),\n",
       " ('us!', 1),\n",
       " ('message', 1),\n",
       " ('been', 1),\n",
       " ('sent', 1),\n",
       " ('w3schools.', 1),\n",
       " ('angular', 1),\n",
       " ('examplesweb', 1),\n",
       " ('courseget', 1),\n",
       " ('»w3schools', 1),\n",
       " ('optimized', 1),\n",
       " ('training.', 1),\n",
       " ('might', 1),\n",
       " ('simplified', 1),\n",
       " ('improve', 1),\n",
       " ('learning.', 1),\n",
       " ('tutorials,', 1),\n",
       " ('references,', 1),\n",
       " ('constantly', 1),\n",
       " ('reviewed', 1),\n",
       " ('avoid', 1),\n",
       " ('errors,', 1),\n",
       " ('but', 1),\n",
       " ('we', 1),\n",
       " ('cannot', 1),\n",
       " ('warrant', 1),\n",
       " ('full', 1),\n",
       " ('correctness', 1),\n",
       " ('content.', 1),\n",
       " ('using', 1),\n",
       " ('w3schools,', 1),\n",
       " ('agree', 1),\n",
       " ('have', 1),\n",
       " ('accepted', 1),\n",
       " ('our', 1),\n",
       " ('terms', 1),\n",
       " ('use,', 1),\n",
       " ('cookie', 1),\n",
       " ('privacy', 1),\n",
       " ('policy.', 1),\n",
       " ('copyright', 1),\n",
       " ('1999-2021', 1),\n",
       " ('refsnes', 1),\n",
       " ('data.', 1),\n",
       " ('rights', 1),\n",
       " ('reserved.', 1),\n",
       " ('powered', 1),\n",
       " ('w3.css.', 1)]"
      ]
     },
     "execution_count": 65,
     "metadata": {},
     "output_type": "execute_result"
    }
   ],
   "source": [
    "sorted(data.items(),key=lambda x:x[1],reverse=True)"
   ]
  },
  {
   "cell_type": "code",
   "execution_count": null,
   "metadata": {},
   "outputs": [],
   "source": []
  },
  {
   "cell_type": "code",
   "execution_count": null,
   "metadata": {},
   "outputs": [],
   "source": []
  },
  {
   "cell_type": "code",
   "execution_count": 66,
   "metadata": {},
   "outputs": [],
   "source": [
    "myfunc=lambda x:x+3"
   ]
  },
  {
   "cell_type": "code",
   "execution_count": 67,
   "metadata": {},
   "outputs": [
    {
     "data": {
      "text/plain": [
       "6"
      ]
     },
     "execution_count": 67,
     "metadata": {},
     "output_type": "execute_result"
    }
   ],
   "source": [
    "myfunc(3)"
   ]
  },
  {
   "cell_type": "code",
   "execution_count": null,
   "metadata": {},
   "outputs": [],
   "source": [
    "def myfunc(x):\n",
    "    return x+3"
   ]
  }
 ],
 "metadata": {
  "kernelspec": {
   "display_name": "Python 3",
   "language": "python",
   "name": "python3"
  },
  "language_info": {
   "codemirror_mode": {
    "name": "ipython",
    "version": 3
   },
   "file_extension": ".py",
   "mimetype": "text/x-python",
   "name": "python",
   "nbconvert_exporter": "python",
   "pygments_lexer": "ipython3",
   "version": "3.8.5"
  }
 },
 "nbformat": 4,
 "nbformat_minor": 4
}
